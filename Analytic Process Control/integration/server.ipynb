{
 "cells": [
  {
   "cell_type": "code",
   "execution_count": null,
   "id": "physical-division",
   "metadata": {},
   "outputs": [],
   "source": [
    "from opcua import Server, Client, ua, uamethod\n",
    "\n",
    "from snap7.client import Client as SnapClient\n",
    "from snap7.types import areas\n",
    "from snap7.util import *\n",
    "from plc_utils import read_data, write_data\n",
    "\n",
    "\n",
    "from random import randint\n",
    "import datetime\n",
    "import time\n",
    "import os\n",
    "import cv2\n",
    "from server_security import OPC_SERVER_SECURITY\n",
    "\n"
   ]
  },
  {
   "cell_type": "markdown",
   "id": "deadly-rally",
   "metadata": {},
   "source": [
    "# define objects"
   ]
  },
  {
   "cell_type": "code",
   "execution_count": null,
   "id": "instrumental-penny",
   "metadata": {},
   "outputs": [],
   "source": [
    "\n",
    "server = Server()\n",
    "opc_server = OPC_SERVER_SECURITY()\n",
    "global plc\n",
    "plc=SnapClient()\n",
    "\n",
    "\n",
    "url = \"opc.tcp://127.0.0.1:4840\"\n",
    "server.set_endpoint(url)\n",
    "\n",
    "\n",
    "plc_ip=\"192.168.0.1\"#usually same in all s7s but confirm kwa TIA\n",
    "plc.connect(plc_ip, 0, 1)\n",
    "plc.get_connected()\n",
    "\n",
    "\n"
   ]
  },
  {
   "cell_type": "markdown",
   "id": "sustainable-still",
   "metadata": {},
   "source": [
    "# server structure"
   ]
  },
  {
   "cell_type": "code",
   "execution_count": null,
   "id": "growing-tattoo",
   "metadata": {},
   "outputs": [],
   "source": [
    "\n",
    "name = \"OPC_Server_Analytic_station\"\n",
    "addspace = server.register_namespace(name)#address space\n",
    "\n",
    "\n",
    "node = server.get_objects_node()\n",
    "plc_node = node.add_object(addspace, \"PLC_S71200\")\n",
    "\n",
    "\n",
    "#(addspace,\"variable_name\",initial_value)\n",
    "process_PH=plc_node.add_variable(addspace,\"process_PH\",0)   \n",
    "setpoint = plc_node.add_variable(addspace, \"setpoint\",0.0 )\n",
    "start = plc_node.add_variable(addspace, \"start\",False, ua.VariantType.Boolean )\n",
    "stop = plc_node.add_variable(addspace, \"stop\",False, ua.VariantType.Boolean )\n",
    "\n",
    "\n",
    "process_PH.set_writable()\n",
    "setpoint.set_writable()\n",
    "start.set_writable()\n",
    "stop.set_writable()\n"
   ]
  },
  {
   "cell_type": "markdown",
   "id": "duplicate-alloy",
   "metadata": {},
   "source": [
    "# start server and wait for clients "
   ]
  },
  {
   "cell_type": "code",
   "execution_count": null,
   "id": "lyric-municipality",
   "metadata": {},
   "outputs": [],
   "source": [
    "server.start()\n",
    "print(\"Server started at {}\".format(url))\n",
    "\n",
    "opc_server.init_opc_server_security('192.168.43.104')\n",
    "while True:\n",
    "    recognized= opc_server.client_authentication()\n",
    "    while recognized:\n",
    "        #process_PH.set_value(read_data(plc, 'IW98'))\n",
    "        #print(process_PH)#prints the node id used below\n",
    "        process_PH=server.get_node('ns=2;i=2')\n",
    "        process_PH=process_PH.get_value()\n",
    "        print('process_PH:{}'.format(process_PH))\n",
    "        \n",
    "        #setpoint.set_value(read_data(plc, 'DB3.DBD0'))\n",
    "        setpoint=server.get_node('ns=2;i=3')\n",
    "        setpoint=setpoint.get_value()\n",
    "        print('setpoint:{}'.format(setpoint))\n",
    "        \n",
    "        if process_PH==setpoint:\n",
    "            write_data(plc, 'M0.3', True)#stop set to True\n",
    "            write_data(plc, 'M0.2', False)#start set to False\n",
    "\n",
    "       \n",
    "\n",
    "        "
   ]
  }
 ],
 "metadata": {
  "kernelspec": {
   "display_name": "Python 3.6 (chatbot)",
   "language": "python",
   "name": "chatbot"
  },
  "language_info": {
   "codemirror_mode": {
    "name": "ipython",
    "version": 3
   },
   "file_extension": ".py",
   "mimetype": "text/x-python",
   "name": "python",
   "nbconvert_exporter": "python",
   "pygments_lexer": "ipython3",
   "version": "3.7.10"
  },
  "varInspector": {
   "cols": {
    "lenName": 16,
    "lenType": 16,
    "lenVar": 40
   },
   "kernels_config": {
    "python": {
     "delete_cmd_postfix": "",
     "delete_cmd_prefix": "del ",
     "library": "var_list.py",
     "varRefreshCmd": "print(var_dic_list())"
    },
    "r": {
     "delete_cmd_postfix": ") ",
     "delete_cmd_prefix": "rm(",
     "library": "var_list.r",
     "varRefreshCmd": "cat(var_dic_list()) "
    }
   },
   "types_to_exclude": [
    "module",
    "function",
    "builtin_function_or_method",
    "instance",
    "_Feature"
   ],
   "window_display": false
  }
 },
 "nbformat": 4,
 "nbformat_minor": 5
}
