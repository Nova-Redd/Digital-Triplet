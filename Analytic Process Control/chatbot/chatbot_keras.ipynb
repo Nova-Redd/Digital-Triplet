{
 "cells": [
  {
   "cell_type": "markdown",
   "id": "descending-annex",
   "metadata": {},
   "source": [
    "# deep learning chatbots"
   ]
  },
  {
   "cell_type": "code",
   "execution_count": null,
   "id": "medium-courage",
   "metadata": {},
   "outputs": [],
   "source": [
    "# https://www.techwithtim.net/tutorials/ai-chatbot/\n",
    "# https://towardsdatascience.com/a-simple-chatbot-in-python-with-deep-learning-3e8669997758"
   ]
  },
  {
   "cell_type": "code",
   "execution_count": null,
   "id": "honey-worst",
   "metadata": {},
   "outputs": [],
   "source": [
    "#for processing natural language\n",
    "import nltk\n",
    "from nltk.stem import WordNetLemmatizer\n",
    "lemmatizer = WordNetLemmatizer()\n",
    "from nltk.stem.lancaster import LancasterStemmer\n",
    "stemmer=LancasterStemmer()\n",
    "\n",
    "#for reading and writing into files\n",
    "import json\n",
    "import pickle\n",
    "\n",
    "#for organizing training data\n",
    "import numpy as np\n",
    "import random\n",
    "\n",
    "#creating the chatbot model\n",
    "from tensorflow.keras.models import Sequential\n",
    "from tensorflow.keras.layers import Dense, Activation, Dropout\n",
    "from tensorflow.keras.optimizers import SGD\n"
   ]
  },
  {
   "cell_type": "markdown",
   "id": "rotary-little",
   "metadata": {},
   "source": [
    "# extract all words and corrsponding labels from json file"
   ]
  },
  {
   "cell_type": "code",
   "execution_count": null,
   "id": "collectible-charge",
   "metadata": {},
   "outputs": [],
   "source": [
    "words=[]\n",
    "classes = []\n",
    "docs = []\n",
    "ignore_words = ['?', '!']\n",
    "data_file = open('intents.json').read()\n",
    "intents = json.loads(data_file)"
   ]
  },
  {
   "cell_type": "code",
   "execution_count": null,
   "id": "cordless-irish",
   "metadata": {},
   "outputs": [],
   "source": [
    "for intent in intents['intents']:\n",
    "    for pattern in intent['patterns']:\n",
    "        #tokenize each word\n",
    "        w = nltk.word_tokenize(pattern)\n",
    "        \n",
    "        #iterate over tokenized words and add each to the words list\n",
    "        words.extend(w)\n",
    "        \n",
    "        #add all tokenized words and their labels to docs as a single element\n",
    "        docs.append((w, intent['tag']))\n",
    "        \n",
    "        # add to our classes list\n",
    "        if intent['tag'] not in classes:\n",
    "            classes.append(intent['tag'])"
   ]
  },
  {
   "cell_type": "code",
   "execution_count": null,
   "id": "peaceful-species",
   "metadata": {},
   "outputs": [],
   "source": [
    "# stem, lower each word and remove duplicates\n",
    "# try lemmatizing instead of stemming\n",
    "# stemming gave better results\n",
    "words = [stemmer.stem(w.lower()) for w in words if w not in ignore_words]\n",
    "words = sorted(list(set(words)))\n",
    "\n",
    "# sort classes\n",
    "classes = sorted(list(set(classes)))\n",
    "\n",
    "# docs = combination of patterns and intents\n",
    "print (len(docs), \"documents\")\n",
    "\n",
    "# classes = intents\n",
    "print (len(classes), \"classes\", classes)\n",
    "\n",
    "# words = all words, vocabulary\n",
    "print (len(words), \"unique stemmed words\", words)\n",
    "\n",
    "#store words and classes into pickle files\n",
    "pickle.dump(words,open('words2.pkl','wb'))\n",
    "pickle.dump(classes,open('classes2.pkl','wb'))\n"
   ]
  },
  {
   "cell_type": "markdown",
   "id": "composite-banana",
   "metadata": {},
   "source": [
    "# create  training data"
   ]
  },
  {
   "cell_type": "code",
   "execution_count": null,
   "id": "excess-linux",
   "metadata": {},
   "outputs": [],
   "source": [
    "training = []\n",
    "\n",
    "# create an empty array for our output\n",
    "output_empty = [0] * len(classes)\n",
    "\n",
    "# training set, bag of words for each sentence\n",
    "for doc in docs:\n",
    "    \n",
    "    # initialize our bag of words\n",
    "    bag = []\n",
    "    \n",
    "    # list of tokenized words for the pattern\n",
    "    pattern_words = doc[0]\n",
    "    \n",
    "    # stem each word\n",
    "    pattern_words = [stemmer.stem(word.lower()) for word in pattern_words]\n",
    "    \n",
    "    # create our bag of words array with 1, if word match found in current pattern\n",
    "    for w in words:\n",
    "        bag.append(1) if w in pattern_words else bag.append(0)\n",
    "        \n",
    "        # output is a '0' for each tag and '1' for current tag (for each pattern)\n",
    "        output_row = list(output_empty)\n",
    "        output_row[classes.index(doc[1])] = 1\n",
    "        training.append([bag, output_row])\n",
    "\n",
    "# shuffle our features and turn into np.array\n",
    "random.shuffle(training)\n",
    "training = np.array(training,dtype=object)\n",
    "\n",
    "# create train and test lists. X - patterns, Y - intents\n",
    "train_x = list(training[:,0])\n",
    "train_y = list(training[:,1])\n",
    "print(\"Training data created\")"
   ]
  },
  {
   "cell_type": "markdown",
   "id": "fundamental-count",
   "metadata": {},
   "source": [
    "# create the model"
   ]
  },
  {
   "cell_type": "code",
   "execution_count": null,
   "id": "brazilian-berkeley",
   "metadata": {},
   "outputs": [],
   "source": [
    "model = Sequential()\n",
    "#first layer with 128 neurones\n",
    "model.add(Dense(128, input_shape=(len(train_x[0]),), activation='relu'))\n",
    "model.add(Dropout(0.5))\n",
    "\n",
    "model.add(Dense(64, activation='relu'))\n",
    "model.add(Dropout(0.5))\n",
    "\n",
    "#output layer equal to number of intents to predict on\n",
    "model.add(Dense(len(train_y[0]), activation='softmax'))\n",
    "\n",
    "# Compile model. Stochastic gradient descent with Nesterov accelerated gradient gives good results for this model\n",
    "sgd = SGD(lr=0.01, decay=1e-6, momentum=0.9, nesterov=True)\n",
    "model.compile(loss='categorical_crossentropy', optimizer=sgd, metrics=['accuracy'])\n",
    "\n",
    "#fitting and saving the model \n",
    "hist = model.fit(np.array(train_x), np.array(train_y), epochs=1000, batch_size=5, verbose=1)\n",
    "model.save('chatbot_model2.h5', hist)\n",
    "\n"
   ]
  },
  {
   "cell_type": "code",
   "execution_count": null,
   "id": "sustained-christianity",
   "metadata": {},
   "outputs": [],
   "source": [
    "print(\"model created\")"
   ]
  },
  {
   "cell_type": "code",
   "execution_count": null,
   "id": "fitting-planner",
   "metadata": {},
   "outputs": [],
   "source": []
  }
 ],
 "metadata": {
  "kernelspec": {
   "display_name": "Python 3.6 (chatbot)",
   "language": "python",
   "name": "chatbot"
  },
  "language_info": {
   "codemirror_mode": {
    "name": "ipython",
    "version": 3
   },
   "file_extension": ".py",
   "mimetype": "text/x-python",
   "name": "python",
   "nbconvert_exporter": "python",
   "pygments_lexer": "ipython3",
   "version": "3.7.10"
  },
  "varInspector": {
   "cols": {
    "lenName": 16,
    "lenType": 16,
    "lenVar": 40
   },
   "kernels_config": {
    "python": {
     "delete_cmd_postfix": "",
     "delete_cmd_prefix": "del ",
     "library": "var_list.py",
     "varRefreshCmd": "print(var_dic_list())"
    },
    "r": {
     "delete_cmd_postfix": ") ",
     "delete_cmd_prefix": "rm(",
     "library": "var_list.r",
     "varRefreshCmd": "cat(var_dic_list()) "
    }
   },
   "types_to_exclude": [
    "module",
    "function",
    "builtin_function_or_method",
    "instance",
    "_Feature"
   ],
   "window_display": false
  }
 },
 "nbformat": 4,
 "nbformat_minor": 5
}
