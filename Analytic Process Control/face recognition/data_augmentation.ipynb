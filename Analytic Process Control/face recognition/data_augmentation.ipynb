{
 "cells": [
  {
   "cell_type": "markdown",
   "id": "palestinian-harassment",
   "metadata": {},
   "source": [
    "# data augmentation with tensorflow keras API"
   ]
  },
  {
   "cell_type": "code",
   "execution_count": null,
   "id": "antique-investing",
   "metadata": {},
   "outputs": [],
   "source": [
    "# https://deeplizard.com/learn/video/14syUbL16k4"
   ]
  },
  {
   "cell_type": "code",
   "execution_count": 1,
   "id": "behavioral-tampa",
   "metadata": {
    "scrolled": false
   },
   "outputs": [],
   "source": [
    "import matplotlib.pyplot as plt\n",
    "import numpy as np\n",
    "import os\n",
    "import random\n",
    "from PIL import Image\n",
    "import tensorflow\n",
    "from tensorflow.keras.preprocessing.image import ImageDataGenerator\n",
    "from PIL import Image\n"
   ]
  },
  {
   "cell_type": "code",
   "execution_count": 2,
   "id": "basic-rates",
   "metadata": {},
   "outputs": [],
   "source": [
    "gen = ImageDataGenerator(rotation_range=10, width_shift_range=0.1, height_shift_range=0.1, shear_range=0.15, zoom_range=0.1,\n",
    "    channel_shift_range=10., horizontal_flip=True)"
   ]
  },
  {
   "cell_type": "code",
   "execution_count": 3,
   "id": "expected-mortality",
   "metadata": {},
   "outputs": [],
   "source": [
    "\n",
    "#next, we’ll generate batches of augmented images from the original image.\n",
    "#The flow() function takes numpy data and generates batches of augmented data.\n",
    "#faces_directory=r'F:\\f\\face\\Mobilenet face recognition\\train'\n",
    "\n",
    "extracted_faces_dir=r\"F:\\f\\face\\Mobilenet face recognition\\extracted_faces\"\n",
    "for name in os.listdir(extracted_faces_dir):\n",
    "    for img in os.listdir(f'{extracted_faces_dir}/{name}'):\n",
    "        image_path = os.path.join(f'{extracted_faces_dir}/{name}', img)\n",
    "        image = np.expand_dims(plt.imread(image_path), 0)\n",
    "        aug_iter = gen.flow(image, save_to_dir=f'{extracted_faces_dir}/{name}'\n",
    "                            , save_prefix=f'aug-{name}-'\n",
    "                            , save_format='jpg')\n",
    "        #Now we’ll get five samples of the augmented images.\n",
    "        aug_images = [next(aug_iter)[0].astype(np.uint8) for i in range(50)]\n"
   ]
  },
  {
   "cell_type": "code",
   "execution_count": null,
   "id": "figured-puzzle",
   "metadata": {},
   "outputs": [],
   "source": []
  }
 ],
 "metadata": {
  "kernelspec": {
   "display_name": "Python 3.6 (chatbot)",
   "language": "python",
   "name": "chatbot"
  },
  "language_info": {
   "codemirror_mode": {
    "name": "ipython",
    "version": 3
   },
   "file_extension": ".py",
   "mimetype": "text/x-python",
   "name": "python",
   "nbconvert_exporter": "python",
   "pygments_lexer": "ipython3",
   "version": "3.7.10"
  },
  "varInspector": {
   "cols": {
    "lenName": 16,
    "lenType": 16,
    "lenVar": 40
   },
   "kernels_config": {
    "python": {
     "delete_cmd_postfix": "",
     "delete_cmd_prefix": "del ",
     "library": "var_list.py",
     "varRefreshCmd": "print(var_dic_list())"
    },
    "r": {
     "delete_cmd_postfix": ") ",
     "delete_cmd_prefix": "rm(",
     "library": "var_list.r",
     "varRefreshCmd": "cat(var_dic_list()) "
    }
   },
   "types_to_exclude": [
    "module",
    "function",
    "builtin_function_or_method",
    "instance",
    "_Feature"
   ],
   "window_display": false
  }
 },
 "nbformat": 4,
 "nbformat_minor": 5
}
