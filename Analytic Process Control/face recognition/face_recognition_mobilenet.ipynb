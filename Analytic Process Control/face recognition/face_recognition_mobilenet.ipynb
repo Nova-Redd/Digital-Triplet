{
 "cells": [
  {
   "cell_type": "markdown",
   "id": "different-edward",
   "metadata": {},
   "source": [
    "# mobilenets with tensorflow keras API"
   ]
  },
  {
   "cell_type": "code",
   "execution_count": null,
   "id": "christian-consolidation",
   "metadata": {},
   "outputs": [],
   "source": [
    "# https://deeplizard.com/learn/video/OO4HD-1wRN8\n",
    "# https://deeplizard.com/learn/video/FNqp4ZY0wDY\n",
    "# https://deeplizard.com/learn/video/Zrt76AIbeh4"
   ]
  },
  {
   "cell_type": "markdown",
   "id": "economic-latvia",
   "metadata": {},
   "source": [
    "# Face recognition using Google's pretrained mobilenet model"
   ]
  },
  {
   "cell_type": "code",
   "execution_count": null,
   "id": "thorough-parameter",
   "metadata": {},
   "outputs": [],
   "source": [
    "from tensorflow import keras\n",
    "from tensorflow.keras.layers import Dense, Activation\n",
    "from tensorflow.keras.optimizers import Adam\n",
    "from tensorflow.keras.metrics import categorical_crossentropy\n",
    "from tensorflow.keras.preprocessing.image import ImageDataGenerator\n",
    "from tensorflow.keras.preprocessing import image\n",
    "from tensorflow.keras.models import Model\n",
    "from tensorflow.keras.applications import imagenet_utils\n",
    "from sklearn.metrics import confusion_matrix\n",
    "import itertools\n",
    "import os\n",
    "import shutil\n",
    "import random\n",
    "import matplotlib.pyplot as plt\n",
    "import tensorflow as tf\n",
    "import numpy as np\n",
    "from IPython.display import display\n",
    "from PIL import Image\n",
    "from tensorflow.keras.models import load_model\n",
    "%matplotlib inline"
   ]
  },
  {
   "cell_type": "code",
   "execution_count": null,
   "id": "postal-airfare",
   "metadata": {},
   "outputs": [],
   "source": [
    "import pickle"
   ]
  },
  {
   "cell_type": "code",
   "execution_count": null,
   "id": "choice-albania",
   "metadata": {},
   "outputs": [],
   "source": [
    "#from custom_callbacks import ModelCheckpointEnhanced\n",
    "#from custom_callbacks import LearningRateSchedulerPerBatch\n",
    "from tensorflow.keras.callbacks import EarlyStopping\n",
    "from tensorflow.keras.callbacks import LearningRateScheduler\n",
    "from tensorflow.keras.callbacks import ModelCheckpoint\n"
   ]
  },
  {
   "cell_type": "markdown",
   "id": "photographic-complexity",
   "metadata": {},
   "source": [
    "# Organize data into train, valid, test dirs"
   ]
  },
  {
   "cell_type": "code",
   "execution_count": null,
   "id": "interested-colors",
   "metadata": {},
   "outputs": [],
   "source": [
    "faces_directory=r'F:\\f\\face\\face recognition\\mobilenet'\n",
    "os.chdir(faces_directory)"
   ]
  },
  {
   "cell_type": "code",
   "execution_count": null,
   "id": "higher-psychiatry",
   "metadata": {},
   "outputs": [],
   "source": [
    "if os.path.isdir('train/0/') is False:\n",
    "    os.mkdir('train')\n",
    "    os.mkdir('valid')\n",
    "    os.mkdir('test')\n",
    "\n",
    "    for i in range(0, 10):\n",
    "        shutil.move(f'{i}', 'train')\n",
    "        os.mkdir(f'valid/{i}')\n",
    "        os.mkdir(f'test/{i}')\n",
    "\n",
    "        valid_samples = random.sample(os.listdir(f'train/{i}'), 550)\n",
    "        for j in valid_samples:\n",
    "            shutil.move(f'train/{i}/{j}', f'valid/{i}')\n",
    "\n",
    "        test_samples = random.sample(os.listdir(f'train/{i}'), 100)\n",
    "        for k in test_samples:\n",
    "            shutil.move(f'train/{i}/{k}', f'test/{i}')"
   ]
  },
  {
   "cell_type": "markdown",
   "id": "pleasant-robinson",
   "metadata": {},
   "source": [
    "# processing the data"
   ]
  },
  {
   "cell_type": "code",
   "execution_count": null,
   "id": "numeric-infection",
   "metadata": {},
   "outputs": [],
   "source": [
    "train_path =os.path.join(f'{faces_directory}/train' )\n",
    "valid_path = os.path.join(f'{faces_directory}/valid' )\n",
    "test_path = os.path.join(f'{faces_directory}/test' )"
   ]
  },
  {
   "cell_type": "code",
   "execution_count": null,
   "id": "civilian-detail",
   "metadata": {},
   "outputs": [],
   "source": [
    "\n",
    "data_generator=ImageDataGenerator(preprocessing_function=tf.keras.applications.mobilenet.preprocess_input)\n",
    "train_batches = data_generator.flow_from_directory(directory=train_path, target_size=(224,224), batch_size=10)\n",
    "valid_batches = data_generator.flow_from_directory(directory=valid_path, target_size=(224,224), batch_size=10)\n",
    "test_batches = data_generator.flow_from_directory(directory=test_path, target_size=(224,224), batch_size=10, shuffle=False)"
   ]
  },
  {
   "cell_type": "markdown",
   "id": "secondary-thirty",
   "metadata": {},
   "source": [
    "# downloading the model"
   ]
  },
  {
   "cell_type": "code",
   "execution_count": null,
   "id": "elementary-scanner",
   "metadata": {
    "scrolled": false
   },
   "outputs": [],
   "source": [
    "#original model\n",
    "mobile = tf.keras.applications.mobilenet.MobileNet()\n",
    "print(mobile.summary())"
   ]
  },
  {
   "cell_type": "markdown",
   "id": "instructional-bidder",
   "metadata": {},
   "source": [
    "## creating the new model"
   ]
  },
  {
   "cell_type": "code",
   "execution_count": null,
   "id": "smooth-negative",
   "metadata": {},
   "outputs": [],
   "source": [
    "x = mobile.layers[-6].output\n",
    "output = Dense(units=4, activation='softmax')(x)\n",
    "model = Model(inputs=mobile.input, outputs=output)\n",
    "for layer in model.layers[:-30]:\n",
    "    layer.trainable = False #freeze top layers except the last 30\n",
    "model.summary()"
   ]
  },
  {
   "cell_type": "markdown",
   "id": "local-creek",
   "metadata": {},
   "source": [
    "## callbacks"
   ]
  },
  {
   "cell_type": "code",
   "execution_count": null,
   "id": "handy-member",
   "metadata": {},
   "outputs": [],
   "source": [
    "\n",
    "filepath=f'{faces_directory}/weights.best3.hdf5'\n",
    "#lr_decay_callback = LearningRateSchedulerPerBatch(lambda step: ((learning_rate - min_learning_rate)* \n",
    "                         #                                       decay_rate ** step \n",
    "                           #                                     + min_learning_rate))\n",
    "def scheduler(epoch, lr):\n",
    "    if epoch < 13:\n",
    "        return lr\n",
    "    else:\n",
    "        return lr * tf.math.exp(-0.1)\n",
    "lr_decay_callback = LearningRateScheduler(scheduler)\n",
    "\n",
    "checkpoint = ModelCheckpoint(filepath, \n",
    "                                 monitor='val_accuracy', \n",
    "                                 verbose=1, \n",
    "                                 save_best_only=True, \n",
    "                                     mode='auto')\n",
    " \n",
    "                                \n",
    "\n",
    "early_stopping= EarlyStopping(monitor=\"val_accuracy\",min_delta=0.005, patience=5, verbose=1,mode=\"auto\",baseline=None,restore_best_weights=True)\n",
    "                            \n",
    "                            \n",
    "                                \n",
    "                               \n",
    "                               \n",
    "\n",
    "callbacks_list = [checkpoint,lr_decay_callback,early_stopping]"
   ]
  },
  {
   "cell_type": "markdown",
   "id": "nearby-validity",
   "metadata": {},
   "source": [
    "## compiling and fitting"
   ]
  },
  {
   "cell_type": "code",
   "execution_count": null,
   "id": "deluxe-picnic",
   "metadata": {},
   "outputs": [],
   "source": [
    "model.compile(optimizer=Adam(lr=0.0001), loss='categorical_crossentropy', metrics=['accuracy'])\n",
    "\n",
    "if os.path.isfile(f'{faces_directory}/face_classifier.h5') is False:\n",
    "    history= model.fit(x=train_batches,\n",
    "              validation_data=valid_batches,\n",
    "              epochs=40,\n",
    "              callbacks=callbacks_list,\n",
    "              verbose=2\n",
    "              )\n",
    "    model.save(os.path.join(f'{faces_directory}/face_classifier.h5'))"
   ]
  },
  {
   "cell_type": "markdown",
   "id": "offshore-seafood",
   "metadata": {},
   "source": [
    "# evaluating the transfer-learned model"
   ]
  },
  {
   "cell_type": "code",
   "execution_count": null,
   "id": "early-regular",
   "metadata": {},
   "outputs": [],
   "source": [
    "new_model=load_model(f'{faces_directory}/face_classifier2.h5')\n",
    "test_labels = test_batches.classes\n",
    "predictions = new_model.predict(x=test_batches, steps=len(test_batches), verbose=0)\n"
   ]
  },
  {
   "cell_type": "markdown",
   "id": "alone-upper",
   "metadata": {},
   "source": [
    "## plotting predictions in a confusion matrix"
   ]
  },
  {
   "cell_type": "code",
   "execution_count": null,
   "id": "dated-thesis",
   "metadata": {},
   "outputs": [],
   "source": [
    "cm = confusion_matrix(y_true=test_labels, y_pred=predictions.argmax(axis=1))\n",
    "def plot_confusion_matrix(cm, classes,\n",
    "                          normalize=False,\n",
    "                          title='Confusion matrix',\n",
    "                          cmap=plt.cm.Blues):\n",
    "    \"\"\"\n",
    "    This function prints and plots the confusion matrix.\n",
    "    Normalization can be applied by setting `normalize=True`.\n",
    "    \"\"\"\n",
    "    plt.imshow(cm, interpolation='nearest', cmap=cmap)\n",
    "    plt.title(title)\n",
    "    plt.colorbar()\n",
    "    tick_marks = np.arange(len(classes))\n",
    "    plt.xticks(tick_marks, classes, rotation=45)\n",
    "    plt.yticks(tick_marks, classes)\n",
    "\n",
    "    if normalize:\n",
    "        cm = cm.astype('float') / cm.sum(axis=1)[:, np.newaxis]\n",
    "        print(\"Normalized confusion matrix\")\n",
    "    else:\n",
    "        print('Confusion matrix, without normalization')\n",
    "\n",
    "    print(cm)\n",
    "\n",
    "    thresh = cm.max() / 2.\n",
    "    for i, j in itertools.product(range(cm.shape[0]), range(cm.shape[1])):\n",
    "        plt.text(j, i, cm[i, j],\n",
    "            horizontalalignment=\"center\",\n",
    "            color=\"white\" if cm[i, j] > thresh else \"black\")\n",
    "\n",
    "    plt.tight_layout()\n",
    "    plt.ylabel('True label')\n",
    "    plt.xlabel('Predicted label')\n",
    "print(test_batches.class_indices)\n",
    "cm_plot_labels = ['0','1','2','3','4','5','6','7','8','9']\n",
    "plot_confusion_matrix(cm=cm, classes=cm_plot_labels, title='Confusion Matrix')\n",
    "plt.show()"
   ]
  },
  {
   "cell_type": "code",
   "execution_count": null,
   "id": "worse-engagement",
   "metadata": {},
   "outputs": [],
   "source": []
  }
 ],
 "metadata": {
  "kernelspec": {
   "display_name": "Python 3.6 (chatbot)",
   "language": "python",
   "name": "chatbot"
  },
  "language_info": {
   "codemirror_mode": {
    "name": "ipython",
    "version": 3
   },
   "file_extension": ".py",
   "mimetype": "text/x-python",
   "name": "python",
   "nbconvert_exporter": "python",
   "pygments_lexer": "ipython3",
   "version": "3.7.10"
  },
  "varInspector": {
   "cols": {
    "lenName": 16,
    "lenType": 16,
    "lenVar": 40
   },
   "kernels_config": {
    "python": {
     "delete_cmd_postfix": "",
     "delete_cmd_prefix": "del ",
     "library": "var_list.py",
     "varRefreshCmd": "print(var_dic_list())"
    },
    "r": {
     "delete_cmd_postfix": ") ",
     "delete_cmd_prefix": "rm(",
     "library": "var_list.r",
     "varRefreshCmd": "cat(var_dic_list()) "
    }
   },
   "types_to_exclude": [
    "module",
    "function",
    "builtin_function_or_method",
    "instance",
    "_Feature"
   ],
   "window_display": false
  }
 },
 "nbformat": 4,
 "nbformat_minor": 5
}
